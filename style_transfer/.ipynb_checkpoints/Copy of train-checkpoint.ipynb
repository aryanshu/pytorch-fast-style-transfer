{
 "cells": [
  {
   "cell_type": "code",
   "execution_count": 1,
   "metadata": {
    "colab": {
     "base_uri": "https://localhost:8080/",
     "height": 34
    },
    "colab_type": "code",
    "executionInfo": {
     "elapsed": 1821,
     "status": "ok",
     "timestamp": 1571232000516,
     "user": {
      "displayName": "aryanshu verma",
      "photoUrl": "",
      "userId": "06257256110111328014"
     },
     "user_tz": -330
    },
    "id": "71lmCZFIt7gz",
    "outputId": "a37d4c83-330b-4f00-d0c5-bf90598611d9"
   },
   "outputs": [
    {
     "data": {
      "text/plain": [
       "'E:\\\\style_transfer\\\\style_transfer'"
      ]
     },
     "execution_count": 1,
     "metadata": {},
     "output_type": "execute_result"
    }
   ],
   "source": [
    "pwd"
   ]
  },
  {
   "cell_type": "code",
   "execution_count": 2,
   "metadata": {
    "colab": {},
    "colab_type": "code",
    "id": "ic1qBv_sUf79"
   },
   "outputs": [],
   "source": [
    "import torch\n",
    "import torch.nn as nn\n",
    "import torch.nn.functional as F\n",
    "import torch.optim as optim\n",
    "\n",
    "from PIL import Image\n",
    "import matplotlib.pyplot as plt\n",
    "\n",
    "import torchvision.transforms as transforms\n",
    "import torchvision.models as models\n",
    "import os\n",
    "from torchvision import datasets\n"
   ]
  },
  {
   "cell_type": "code",
   "execution_count": 5,
   "metadata": {
    "colab": {
     "base_uri": "https://localhost:8080/",
     "height": 122
    },
    "colab_type": "code",
    "executionInfo": {
     "elapsed": 60734,
     "status": "ok",
     "timestamp": 1571232165058,
     "user": {
      "displayName": "aryanshu verma",
      "photoUrl": "",
      "userId": "06257256110111328014"
     },
     "user_tz": -330
    },
    "id": "gh5jkkXC8aUG",
    "outputId": "a81d1358-d55f-497f-c7d0-5169fb5c8391"
   },
   "outputs": [
    {
     "name": "stdout",
     "output_type": "stream",
     "text": [
      "Go to this URL in a browser: https://accounts.google.com/o/oauth2/auth?client_id=947318989803-6bn6qk8qdgf4n4g3pfee6491hc0brc4i.apps.googleusercontent.com&redirect_uri=urn%3Aietf%3Awg%3Aoauth%3A2.0%3Aoob&scope=email%20https%3A%2F%2Fwww.googleapis.com%2Fauth%2Fdocs.test%20https%3A%2F%2Fwww.googleapis.com%2Fauth%2Fdrive%20https%3A%2F%2Fwww.googleapis.com%2Fauth%2Fdrive.photos.readonly%20https%3A%2F%2Fwww.googleapis.com%2Fauth%2Fpeopleapi.readonly&response_type=code\n",
      "\n",
      "Enter your authorization code:\n",
      "··········\n",
      "Mounted at /content/drive/\n"
     ]
    }
   ],
   "source": [
    "from google.colab import drive\n",
    "drive.mount('/content/drive/')"
   ]
  },
  {
   "cell_type": "code",
   "execution_count": 11,
   "metadata": {
    "colab": {
     "base_uri": "https://localhost:8080/",
     "height": 34
    },
    "colab_type": "code",
    "executionInfo": {
     "elapsed": 1414,
     "status": "ok",
     "timestamp": 1571232309030,
     "user": {
      "displayName": "aryanshu verma",
      "photoUrl": "",
      "userId": "06257256110111328014"
     },
     "user_tz": -330
    },
    "id": "Nz3gjUhNvhg0",
    "outputId": "7a3e4690-1c1b-4333-a3f9-9c0544dbd123"
   },
   "outputs": [
    {
     "name": "stdout",
     "output_type": "stream",
     "text": [
      "/content/drive/My Drive/Colab Notebooks/pics/f\n"
     ]
    }
   ],
   "source": [
    "cd  \"pics/f\""
   ]
  },
  {
   "cell_type": "code",
   "execution_count": 14,
   "metadata": {
    "colab": {
     "base_uri": "https://localhost:8080/",
     "height": 894
    },
    "colab_type": "code",
    "executionInfo": {
     "elapsed": 1748,
     "status": "error",
     "timestamp": 1571232356224,
     "user": {
      "displayName": "aryanshu verma",
      "photoUrl": "",
      "userId": "06257256110111328014"
     },
     "user_tz": -330
    },
    "id": "LUJybkEO5Ke3",
    "outputId": "db447286-8be3-4db4-c58d-ddec688e8f09"
   },
   "outputs": [
    {
     "name": "stderr",
     "output_type": "stream",
     "text": [
      "ERROR:root:Internal Python error in the inspect module.\n",
      "Below is the traceback from this internal error.\n",
      "\n"
     ]
    },
    {
     "name": "stdout",
     "output_type": "stream",
     "text": [
      "Traceback (most recent call last):\n",
      "  File \"/usr/local/lib/python3.6/dist-packages/IPython/core/interactiveshell.py\", line 2882, in run_code\n",
      "    exec(code_obj, self.user_global_ns, self.user_ns)\n",
      "  File \"<ipython-input-14-b75e3cc3519e>\", line 1, in <module>\n",
      "    get_ipython().magic('cd \"/content/drive/My Drive/Colab Notebooks/\"')\n",
      "  File \"/usr/local/lib/python3.6/dist-packages/IPython/core/interactiveshell.py\", line 2160, in magic\n",
      "    return self.run_line_magic(magic_name, magic_arg_s)\n",
      "  File \"/usr/local/lib/python3.6/dist-packages/IPython/core/interactiveshell.py\", line 2081, in run_line_magic\n",
      "    result = fn(*args,**kwargs)\n",
      "  File \"</usr/local/lib/python3.6/dist-packages/decorator.py:decorator-gen-91>\", line 2, in cd\n",
      "  File \"/usr/local/lib/python3.6/dist-packages/IPython/core/magic.py\", line 188, in <lambda>\n",
      "    call = lambda f, *a, **k: f(*a, **k)\n",
      "  File \"/usr/local/lib/python3.6/dist-packages/IPython/core/magics/osm.py\", line 288, in cd\n",
      "    oldcwd = py3compat.getcwd()\n",
      "OSError: [Errno 107] Transport endpoint is not connected\n",
      "\n",
      "During handling of the above exception, another exception occurred:\n",
      "\n",
      "Traceback (most recent call last):\n",
      "  File \"/usr/local/lib/python3.6/dist-packages/IPython/core/interactiveshell.py\", line 1823, in showtraceback\n",
      "    stb = value._render_traceback_()\n",
      "AttributeError: 'OSError' object has no attribute '_render_traceback_'\n",
      "\n",
      "During handling of the above exception, another exception occurred:\n",
      "\n",
      "Traceback (most recent call last):\n",
      "  File \"/usr/local/lib/python3.6/dist-packages/IPython/core/ultratb.py\", line 1132, in get_records\n",
      "    return _fixed_getinnerframes(etb, number_of_lines_of_context, tb_offset)\n",
      "  File \"/usr/local/lib/python3.6/dist-packages/IPython/core/ultratb.py\", line 313, in wrapped\n",
      "    return f(*args, **kwargs)\n",
      "  File \"/usr/local/lib/python3.6/dist-packages/IPython/core/ultratb.py\", line 358, in _fixed_getinnerframes\n",
      "    records = fix_frame_records_filenames(inspect.getinnerframes(etb, context))\n",
      "  File \"/usr/lib/python3.6/inspect.py\", line 1490, in getinnerframes\n",
      "    frameinfo = (tb.tb_frame,) + getframeinfo(tb, context)\n",
      "  File \"/usr/lib/python3.6/inspect.py\", line 1448, in getframeinfo\n",
      "    filename = getsourcefile(frame) or getfile(frame)\n",
      "  File \"/usr/lib/python3.6/inspect.py\", line 696, in getsourcefile\n",
      "    if getattr(getmodule(object, filename), '__loader__', None) is not None:\n",
      "  File \"/usr/lib/python3.6/inspect.py\", line 725, in getmodule\n",
      "    file = getabsfile(object, _filename)\n",
      "  File \"/usr/lib/python3.6/inspect.py\", line 709, in getabsfile\n",
      "    return os.path.normcase(os.path.abspath(_filename))\n",
      "  File \"/usr/lib/python3.6/posixpath.py\", line 383, in abspath\n",
      "    cwd = os.getcwd()\n",
      "OSError: [Errno 107] Transport endpoint is not connected\n"
     ]
    },
    {
     "ename": "OSError",
     "evalue": "ignored",
     "output_type": "error",
     "traceback": [
      "\u001b[0;31m---------------------------------------------------------------------------\u001b[0m"
     ]
    }
   ],
   "source": [
    "cd \"/content/drive/My Drive/Colab Notebooks/\"\n"
   ]
  },
  {
   "cell_type": "code",
   "execution_count": 3,
   "metadata": {
    "colab": {},
    "colab_type": "code",
    "id": "qRgHPVOlAclu"
   },
   "outputs": [],
   "source": [
    "def normalize_batch(batch):\n",
    "    # normalize using imagenet mean and std\n",
    "    mean = batch.new_tensor([0.485, 0.456, 0.406]).view(-1, 1, 1)\n",
    "    std = batch.new_tensor([0.229, 0.224, 0.225]).view(-1, 1, 1)\n",
    "    batch = batch.div_(255.0)\n",
    "    return (batch - mean) / std"
   ]
  },
  {
   "cell_type": "code",
   "execution_count": 5,
   "metadata": {
    "colab": {
     "base_uri": "https://localhost:8080/",
     "height": 1000
    },
    "colab_type": "code",
    "executionInfo": {
     "elapsed": 13473,
     "status": "error",
     "timestamp": 1571232346122,
     "user": {
      "displayName": "aryanshu verma",
      "photoUrl": "",
      "userId": "06257256110111328014"
     },
     "user_tz": -330
    },
    "id": "aX_7pjhh-QT0",
    "outputId": "398a70e6-4eb4-44d8-97d5-33c410b70eef"
   },
   "outputs": [
    {
     "ename": "RuntimeError",
     "evalue": "Found 0 files in subfolders of: ./pics/\nSupported extensions are: .jpg,.jpeg,.png,.ppm,.bmp,.pgm,.tif,.tiff,webp",
     "output_type": "error",
     "traceback": [
      "\u001b[1;31m---------------------------------------------------------------------------\u001b[0m",
      "\u001b[1;31mRuntimeError\u001b[0m                              Traceback (most recent call last)",
      "\u001b[1;32m<ipython-input-5-168218d17070>\u001b[0m in \u001b[0;36m<module>\u001b[1;34m\u001b[0m\n\u001b[0;32m      4\u001b[0m                                 \u001b[0mtransforms\u001b[0m\u001b[1;33m.\u001b[0m\u001b[0mResize\u001b[0m\u001b[1;33m(\u001b[0m\u001b[1;33m(\u001b[0m\u001b[1;36m600\u001b[0m\u001b[1;33m,\u001b[0m\u001b[1;36m600\u001b[0m\u001b[1;33m)\u001b[0m\u001b[1;33m)\u001b[0m\u001b[1;33m,\u001b[0m\u001b[1;33m\u001b[0m\u001b[1;33m\u001b[0m\u001b[0m\n\u001b[0;32m      5\u001b[0m                                 \u001b[0mtransforms\u001b[0m\u001b[1;33m.\u001b[0m\u001b[0mCenterCrop\u001b[0m\u001b[1;33m(\u001b[0m\u001b[1;36m512\u001b[0m\u001b[1;33m)\u001b[0m\u001b[1;33m,\u001b[0m\u001b[1;33m\u001b[0m\u001b[1;33m\u001b[0m\u001b[0m\n\u001b[1;32m----> 6\u001b[1;33m                                 \u001b[0mtransforms\u001b[0m\u001b[1;33m.\u001b[0m\u001b[0mToTensor\u001b[0m\u001b[1;33m(\u001b[0m\u001b[1;33m)\u001b[0m\u001b[1;33m\u001b[0m\u001b[1;33m\u001b[0m\u001b[0m\n\u001b[0m\u001b[0;32m      7\u001b[0m \u001b[1;33m\u001b[0m\u001b[0m\n\u001b[0;32m      8\u001b[0m \u001b[1;33m\u001b[0m\u001b[0m\n",
      "\u001b[1;32mc:\\users\\aryanshu\\appdata\\local\\programs\\python\\python37\\lib\\site-packages\\torchvision\\datasets\\folder.py\u001b[0m in \u001b[0;36m__init__\u001b[1;34m(self, root, transform, target_transform, loader)\u001b[0m\n\u001b[0;32m    207\u001b[0m         super(ImageFolder, self).__init__(root, loader, IMG_EXTENSIONS,\n\u001b[0;32m    208\u001b[0m                                           \u001b[0mtransform\u001b[0m\u001b[1;33m=\u001b[0m\u001b[0mtransform\u001b[0m\u001b[1;33m,\u001b[0m\u001b[1;33m\u001b[0m\u001b[1;33m\u001b[0m\u001b[0m\n\u001b[1;32m--> 209\u001b[1;33m                                           target_transform=target_transform)\n\u001b[0m\u001b[0;32m    210\u001b[0m         \u001b[0mself\u001b[0m\u001b[1;33m.\u001b[0m\u001b[0mimgs\u001b[0m \u001b[1;33m=\u001b[0m \u001b[0mself\u001b[0m\u001b[1;33m.\u001b[0m\u001b[0msamples\u001b[0m\u001b[1;33m\u001b[0m\u001b[1;33m\u001b[0m\u001b[0m\n",
      "\u001b[1;32mc:\\users\\aryanshu\\appdata\\local\\programs\\python\\python37\\lib\\site-packages\\torchvision\\datasets\\folder.py\u001b[0m in \u001b[0;36m__init__\u001b[1;34m(self, root, loader, extensions, transform, target_transform)\u001b[0m\n\u001b[0;32m     85\u001b[0m         \u001b[1;32mif\u001b[0m \u001b[0mlen\u001b[0m\u001b[1;33m(\u001b[0m\u001b[0msamples\u001b[0m\u001b[1;33m)\u001b[0m \u001b[1;33m==\u001b[0m \u001b[1;36m0\u001b[0m\u001b[1;33m:\u001b[0m\u001b[1;33m\u001b[0m\u001b[1;33m\u001b[0m\u001b[0m\n\u001b[0;32m     86\u001b[0m             raise(RuntimeError(\"Found 0 files in subfolders of: \" + root + \"\\n\"\n\u001b[1;32m---> 87\u001b[1;33m                                \"Supported extensions are: \" + \",\".join(extensions)))\n\u001b[0m\u001b[0;32m     88\u001b[0m \u001b[1;33m\u001b[0m\u001b[0m\n\u001b[0;32m     89\u001b[0m         \u001b[0mself\u001b[0m\u001b[1;33m.\u001b[0m\u001b[0mroot\u001b[0m \u001b[1;33m=\u001b[0m \u001b[0mroot\u001b[0m\u001b[1;33m\u001b[0m\u001b[1;33m\u001b[0m\u001b[0m\n",
      "\u001b[1;31mRuntimeError\u001b[0m: Found 0 files in subfolders of: ./pics/\nSupported extensions are: .jpg,.jpeg,.png,.ppm,.bmp,.pgm,.tif,.tiff,webp"
     ]
    }
   ],
   "source": [
    "dataset=datasets.ImageFolder(root=\"E:/style_transfer/pics/\",\n",
    "                                transform=transforms.Compose([\n",
    "                                \n",
    "                                transforms.Resize((600,600)),\n",
    "                                transforms.CenterCrop(512),\n",
    "                                transforms.ToTensor()\n",
    "                                \n",
    "    \n",
    "    \n",
    "                   ]))\n"
   ]
  },
  {
   "cell_type": "code",
   "execution_count": 24,
   "metadata": {
    "colab": {
     "base_uri": "https://localhost:8080/",
     "height": 894
    },
    "colab_type": "code",
    "executionInfo": {
     "elapsed": 1273,
     "status": "error",
     "timestamp": 1571226228447,
     "user": {
      "displayName": "aryanshu verma",
      "photoUrl": "",
      "userId": "06257256110111328014"
     },
     "user_tz": -330
    },
    "id": "VpqmQERegzEx",
    "outputId": "23115996-b795-43d0-d8c5-c5e4a5c89349"
   },
   "outputs": [
    {
     "name": "stderr",
     "output_type": "stream",
     "text": [
      "ERROR:root:Internal Python error in the inspect module.\n",
      "Below is the traceback from this internal error.\n",
      "\n"
     ]
    },
    {
     "name": "stdout",
     "output_type": "stream",
     "text": [
      "Traceback (most recent call last):\n",
      "  File \"/usr/local/lib/python3.6/dist-packages/IPython/core/interactiveshell.py\", line 2882, in run_code\n",
      "    exec(code_obj, self.user_global_ns, self.user_ns)\n",
      "  File \"<ipython-input-24-b75e3cc3519e>\", line 1, in <module>\n",
      "    get_ipython().magic('cd \"/content/drive/My Drive/Colab Notebooks/\"')\n",
      "  File \"/usr/local/lib/python3.6/dist-packages/IPython/core/interactiveshell.py\", line 2160, in magic\n",
      "    return self.run_line_magic(magic_name, magic_arg_s)\n",
      "  File \"/usr/local/lib/python3.6/dist-packages/IPython/core/interactiveshell.py\", line 2081, in run_line_magic\n",
      "    result = fn(*args,**kwargs)\n",
      "  File \"</usr/local/lib/python3.6/dist-packages/decorator.py:decorator-gen-91>\", line 2, in cd\n",
      "  File \"/usr/local/lib/python3.6/dist-packages/IPython/core/magic.py\", line 188, in <lambda>\n",
      "    call = lambda f, *a, **k: f(*a, **k)\n",
      "  File \"/usr/local/lib/python3.6/dist-packages/IPython/core/magics/osm.py\", line 288, in cd\n",
      "    oldcwd = py3compat.getcwd()\n",
      "OSError: [Errno 107] Transport endpoint is not connected\n",
      "\n",
      "During handling of the above exception, another exception occurred:\n",
      "\n",
      "Traceback (most recent call last):\n",
      "  File \"/usr/local/lib/python3.6/dist-packages/IPython/core/interactiveshell.py\", line 1823, in showtraceback\n",
      "    stb = value._render_traceback_()\n",
      "AttributeError: 'OSError' object has no attribute '_render_traceback_'\n",
      "\n",
      "During handling of the above exception, another exception occurred:\n",
      "\n",
      "Traceback (most recent call last):\n",
      "  File \"/usr/local/lib/python3.6/dist-packages/IPython/core/ultratb.py\", line 1132, in get_records\n",
      "    return _fixed_getinnerframes(etb, number_of_lines_of_context, tb_offset)\n",
      "  File \"/usr/local/lib/python3.6/dist-packages/IPython/core/ultratb.py\", line 313, in wrapped\n",
      "    return f(*args, **kwargs)\n",
      "  File \"/usr/local/lib/python3.6/dist-packages/IPython/core/ultratb.py\", line 358, in _fixed_getinnerframes\n",
      "    records = fix_frame_records_filenames(inspect.getinnerframes(etb, context))\n",
      "  File \"/usr/lib/python3.6/inspect.py\", line 1490, in getinnerframes\n",
      "    frameinfo = (tb.tb_frame,) + getframeinfo(tb, context)\n",
      "  File \"/usr/lib/python3.6/inspect.py\", line 1448, in getframeinfo\n",
      "    filename = getsourcefile(frame) or getfile(frame)\n",
      "  File \"/usr/lib/python3.6/inspect.py\", line 696, in getsourcefile\n",
      "    if getattr(getmodule(object, filename), '__loader__', None) is not None:\n",
      "  File \"/usr/lib/python3.6/inspect.py\", line 725, in getmodule\n",
      "    file = getabsfile(object, _filename)\n",
      "  File \"/usr/lib/python3.6/inspect.py\", line 709, in getabsfile\n",
      "    return os.path.normcase(os.path.abspath(_filename))\n",
      "  File \"/usr/lib/python3.6/posixpath.py\", line 383, in abspath\n",
      "    cwd = os.getcwd()\n",
      "OSError: [Errno 107] Transport endpoint is not connected\n"
     ]
    },
    {
     "ename": "OSError",
     "evalue": "ignored",
     "output_type": "error",
     "traceback": [
      "\u001b[0;31m---------------------------------------------------------------------------\u001b[0m"
     ]
    }
   ],
   "source": [
    "cd \"/content/drive/My Drive/Colab Notebooks/\""
   ]
  },
  {
   "cell_type": "code",
   "execution_count": 0,
   "metadata": {
    "colab": {},
    "colab_type": "code",
    "id": "Fb0d3kos8bn0"
   },
   "outputs": [],
   "source": [
    "dataloader=torch.utils.data.DataLoader(dataset,shuffle=True,batch_size=4)\n",
    "\n",
    "  \n"
   ]
  },
  {
   "cell_type": "code",
   "execution_count": 14,
   "metadata": {
    "colab": {
     "base_uri": "https://localhost:8080/",
     "height": 68
    },
    "colab_type": "code",
    "executionInfo": {
     "elapsed": 15613,
     "status": "ok",
     "timestamp": 1571225828831,
     "user": {
      "displayName": "aryanshu verma",
      "photoUrl": "",
      "userId": "06257256110111328014"
     },
     "user_tz": -330
    },
    "id": "z_FYZN-pVFYW",
    "outputId": "fae9cf05-2fbe-406a-a092-f2d604b80b38"
   },
   "outputs": [
    {
     "name": "stdout",
     "output_type": "stream",
     "text": [
      "Drive already mounted at /content/drive; to attempt to forcibly remount, call drive.mount(\"/content/drive\", force_remount=True).\n"
     ]
    },
    {
     "name": "stderr",
     "output_type": "stream",
     "text": [
      "Downloading: \"https://download.pytorch.org/models/vgg16-397923af.pth\" to /root/.cache/torch/checkpoints/vgg16-397923af.pth\n",
      "100%|██████████| 528M/528M [00:05<00:00, 103MB/s]\n"
     ]
    }
   ],
   "source": [
    "%run vgg.ipynb\n",
    "device=\"cuda\" \n",
    "VGG=VGG16().to(device)"
   ]
  },
  {
   "cell_type": "code",
   "execution_count": 9,
   "metadata": {
    "colab": {
     "base_uri": "https://localhost:8080/",
     "height": 153
    },
    "colab_type": "code",
    "executionInfo": {
     "elapsed": 2720,
     "status": "ok",
     "timestamp": 1571223819969,
     "user": {
      "displayName": "aryanshu verma",
      "photoUrl": "",
      "userId": "06257256110111328014"
     },
     "user_tz": -330
    },
    "id": "capMQI86b7oF",
    "outputId": "392d162c-cc63-4c63-debf-1f999232928a"
   },
   "outputs": [
    {
     "data": {
      "text/plain": [
       "Dataset ImageFolder\n",
       "    Number of datapoints: 3116\n",
       "    Root location: /\n",
       "    StandardTransform\n",
       "Transform: Compose(\n",
       "               Resize(size=(512, 512), interpolation=PIL.Image.BILINEAR)\n",
       "               ToTensor()\n",
       "           )"
      ]
     },
     "execution_count": 9,
     "metadata": {
      "tags": []
     },
     "output_type": "execute_result"
    }
   ],
   "source": [
    "#%run transformation.ipynb\n",
    "#transformer=Transformer().to(device)\n"
   ]
  },
  {
   "cell_type": "code",
   "execution_count": 15,
   "metadata": {
    "colab": {
     "base_uri": "https://localhost:8080/",
     "height": 350
    },
    "colab_type": "code",
    "executionInfo": {
     "elapsed": 8968,
     "status": "error",
     "timestamp": 1571225828833,
     "user": {
      "displayName": "aryanshu verma",
      "photoUrl": "",
      "userId": "06257256110111328014"
     },
     "user_tz": -330
    },
    "id": "0BDq2_evcIwj",
    "outputId": "fade38ad-10ca-4c3d-cbf9-81b2a2d9b7bd"
   },
   "outputs": [
    {
     "ename": "FileNotFoundError",
     "evalue": "ignored",
     "output_type": "error",
     "traceback": [
      "\u001b[0;31m---------------------------------------------------------------------------\u001b[0m",
      "\u001b[0;31mFileNotFoundError\u001b[0m                         Traceback (most recent call last)",
      "\u001b[0;32m<ipython-input-15-0a8231f0cb84>\u001b[0m in \u001b[0;36m<module>\u001b[0;34m()\u001b[0m\n\u001b[1;32m     10\u001b[0m \u001b[0;32mfor\u001b[0m \u001b[0mx\u001b[0m \u001b[0;32min\u001b[0m \u001b[0mrange\u001b[0m\u001b[0;34m(\u001b[0m\u001b[0;36m2\u001b[0m\u001b[0;34m,\u001b[0m\u001b[0;36m8\u001b[0m\u001b[0;34m)\u001b[0m\u001b[0;34m:\u001b[0m\u001b[0;34m\u001b[0m\u001b[0;34m\u001b[0m\u001b[0m\n\u001b[1;32m     11\u001b[0m   \u001b[0mimg\u001b[0m\u001b[0;34m=\u001b[0m\u001b[0;34m\"images/\"\u001b[0m\u001b[0;34m+\u001b[0m\u001b[0mstr\u001b[0m\u001b[0;34m(\u001b[0m\u001b[0mx\u001b[0m\u001b[0;34m)\u001b[0m\u001b[0;34m+\u001b[0m\u001b[0;34m\".jpg\"\u001b[0m\u001b[0;34m\u001b[0m\u001b[0;34m\u001b[0m\u001b[0m\n\u001b[0;32m---> 12\u001b[0;31m   \u001b[0mimg\u001b[0m\u001b[0;34m=\u001b[0m\u001b[0mImage\u001b[0m\u001b[0;34m.\u001b[0m\u001b[0mopen\u001b[0m\u001b[0;34m(\u001b[0m\u001b[0mimg\u001b[0m\u001b[0;34m)\u001b[0m\u001b[0;34m\u001b[0m\u001b[0;34m\u001b[0m\u001b[0m\n\u001b[0m\u001b[1;32m     13\u001b[0m   \u001b[0mimg\u001b[0m\u001b[0;34m=\u001b[0m\u001b[0mpilt\u001b[0m\u001b[0;34m(\u001b[0m\u001b[0mimg\u001b[0m\u001b[0;34m)\u001b[0m\u001b[0;34m\u001b[0m\u001b[0;34m\u001b[0m\u001b[0m\n\u001b[1;32m     14\u001b[0m   \u001b[0mimg\u001b[0m\u001b[0;34m=\u001b[0m\u001b[0mimg\u001b[0m\u001b[0;34m.\u001b[0m\u001b[0munsqueeze\u001b[0m\u001b[0;34m(\u001b[0m\u001b[0;36m0\u001b[0m\u001b[0;34m)\u001b[0m\u001b[0;34m\u001b[0m\u001b[0;34m\u001b[0m\u001b[0m\n",
      "\u001b[0;32m/usr/local/lib/python3.6/dist-packages/PIL/Image.py\u001b[0m in \u001b[0;36mopen\u001b[0;34m(fp, mode)\u001b[0m\n\u001b[1;32m   2528\u001b[0m \u001b[0;34m\u001b[0m\u001b[0m\n\u001b[1;32m   2529\u001b[0m     \u001b[0;32mif\u001b[0m \u001b[0mfilename\u001b[0m\u001b[0;34m:\u001b[0m\u001b[0;34m\u001b[0m\u001b[0;34m\u001b[0m\u001b[0m\n\u001b[0;32m-> 2530\u001b[0;31m         \u001b[0mfp\u001b[0m \u001b[0;34m=\u001b[0m \u001b[0mbuiltins\u001b[0m\u001b[0;34m.\u001b[0m\u001b[0mopen\u001b[0m\u001b[0;34m(\u001b[0m\u001b[0mfilename\u001b[0m\u001b[0;34m,\u001b[0m \u001b[0;34m\"rb\"\u001b[0m\u001b[0;34m)\u001b[0m\u001b[0;34m\u001b[0m\u001b[0;34m\u001b[0m\u001b[0m\n\u001b[0m\u001b[1;32m   2531\u001b[0m         \u001b[0mexclusive_fp\u001b[0m \u001b[0;34m=\u001b[0m \u001b[0;32mTrue\u001b[0m\u001b[0;34m\u001b[0m\u001b[0;34m\u001b[0m\u001b[0m\n\u001b[1;32m   2532\u001b[0m \u001b[0;34m\u001b[0m\u001b[0m\n",
      "\u001b[0;31mFileNotFoundError\u001b[0m: [Errno 2] No such file or directory: 'images/2.jpg'"
     ]
    }
   ],
   "source": [
    "tpil=transforms.ToPILImage()\n",
    "pilt=transforms.ToTensor()\n",
    "\n",
    "def ishow(imgt):\n",
    "  imgt=imgt.squeeze(0)\n",
    "  img=tpil(imgt)\n",
    "  plt.figure()\n",
    "  plt.imshow(img)\n",
    "  \n",
    "for x in range(2,8):\n",
    "  img=\"images/\"+str(x)+\".jpg\"\n",
    "  img=Image.open(img)\n",
    "  img=pilt(img)\n",
    "  img=img.unsqueeze(0)\n",
    "  ishow(img)"
   ]
  },
  {
   "cell_type": "code",
   "execution_count": 0,
   "metadata": {
    "colab": {},
    "colab_type": "code",
    "id": "Ef9kx2A1epxN"
   },
   "outputs": [],
   "source": [
    "transform=transforms.Compose([\n",
    "                                \n",
    "                                transforms.Resize((512,512)),\n",
    "                                transforms.ToTensor(),\n",
    "                                \n",
    "    \n",
    "    \n",
    "                   ])"
   ]
  },
  {
   "cell_type": "code",
   "execution_count": 0,
   "metadata": {
    "colab": {},
    "colab_type": "code",
    "id": "F1h3S4MPm4U0"
   },
   "outputs": [],
   "source": [
    "def gram_matrix(y):\n",
    "    (b, ch, h, w) = y.size()\n",
    "    features = y.view(b, ch, w * h)\n",
    "    features_t = features.transpose(1, 2)\n",
    "    gram = features.bmm(features_t) / (ch * h * w)\n",
    "    return gram"
   ]
  },
  {
   "cell_type": "code",
   "execution_count": 0,
   "metadata": {
    "colab": {},
    "colab_type": "code",
    "id": "q6dU35rMtjxi"
   },
   "outputs": [],
   "source": [
    "\n",
    "%run t0.ipynb\n",
    "trans=TransformerNet().to(device)"
   ]
  },
  {
   "cell_type": "code",
   "execution_count": 0,
   "metadata": {
    "colab": {},
    "colab_type": "code",
    "id": "Jkf5sEfM8KDc"
   },
   "outputs": [],
   "source": [
    "mse_loss = torch.nn.MSELoss()\n",
    "optimizer = optim.Adam(trans.parameters(), lr=.003)"
   ]
  },
  {
   "cell_type": "code",
   "execution_count": 22,
   "metadata": {
    "colab": {
     "base_uri": "https://localhost:8080/",
     "height": 1000
    },
    "colab_type": "code",
    "executionInfo": {
     "elapsed": 276547,
     "status": "error",
     "timestamp": 1571226197393,
     "user": {
      "displayName": "aryanshu verma",
      "photoUrl": "",
      "userId": "06257256110111328014"
     },
     "user_tz": -330
    },
    "id": "OSewCaQFCdFo",
    "outputId": "443caf62-8b28-4e9c-eabe-6b8e8eeeefde"
   },
   "outputs": [
    {
     "name": "stdout",
     "output_type": "stream",
     "text": [
      "content_loss0.7227295637130737,style_loss5.551303183892742e-05,epochs199\n",
      "Time elapsed:\t6.643182039260864 seconds\n",
      "Saved TransformerNetwork checkpoint file at images/model.pth.pth\n",
      "content_loss0.34452301263809204,style_loss0.0001388872042298317,epochs198\n",
      "Time elapsed:\t12.510546922683716 seconds\n",
      "Saved TransformerNetwork checkpoint file at images/model.pth.pth\n",
      "content_loss0.18071676790714264,style_loss0.00010031479177996516,epochs197\n",
      "Time elapsed:\t18.37427282333374 seconds\n",
      "Saved TransformerNetwork checkpoint file at images/model.pth.pth\n",
      "content_loss0.1499650478363037,style_loss8.561754657421261e-05,epochs196\n",
      "Time elapsed:\t24.18910789489746 seconds\n",
      "Saved TransformerNetwork checkpoint file at images/model.pth.pth\n",
      "content_loss0.1439637392759323,style_loss9.00495215319097e-05,epochs195\n",
      "Time elapsed:\t30.039299726486206 seconds\n",
      "Saved TransformerNetwork checkpoint file at images/model.pth.pth\n",
      "content_loss0.13643693923950195,style_loss9.564889478497207e-05,epochs194\n",
      "Time elapsed:\t35.89189910888672 seconds\n",
      "Saved TransformerNetwork checkpoint file at images/model.pth.pth\n",
      "content_loss0.12163130939006805,style_loss9.643664816394448e-05,epochs193\n",
      "Time elapsed:\t41.75194072723389 seconds\n",
      "Saved TransformerNetwork checkpoint file at images/model.pth.pth\n",
      "content_loss0.11648261547088623,style_loss9.567489905748516e-05,epochs192\n",
      "Time elapsed:\t47.60295367240906 seconds\n",
      "Saved TransformerNetwork checkpoint file at images/model.pth.pth\n",
      "content_loss0.112251415848732,style_loss9.265303378924727e-05,epochs191\n",
      "Time elapsed:\t53.415037393569946 seconds\n",
      "Saved TransformerNetwork checkpoint file at images/model.pth.pth\n",
      "content_loss0.10334014147520065,style_loss9.14954362087883e-05,epochs190\n",
      "Time elapsed:\t59.25812911987305 seconds\n",
      "Saved TransformerNetwork checkpoint file at images/model.pth.pth\n",
      "content_loss0.100838303565979,style_loss9.260953811462969e-05,epochs189\n",
      "Time elapsed:\t65.10806083679199 seconds\n",
      "Saved TransformerNetwork checkpoint file at images/model.pth.pth\n",
      "content_loss0.0952763706445694,style_loss9.202659566653892e-05,epochs188\n",
      "Time elapsed:\t70.95701122283936 seconds\n",
      "Saved TransformerNetwork checkpoint file at images/model.pth.pth\n",
      "content_loss0.08974049240350723,style_loss9.097157453652471e-05,epochs187\n",
      "Time elapsed:\t76.79377913475037 seconds\n",
      "Saved TransformerNetwork checkpoint file at images/model.pth.pth\n",
      "content_loss0.08283435553312302,style_loss8.820413495413959e-05,epochs186\n",
      "Time elapsed:\t82.63864064216614 seconds\n",
      "Saved TransformerNetwork checkpoint file at images/model.pth.pth\n",
      "content_loss0.07984480261802673,style_loss8.616507693659514e-05,epochs185\n",
      "Time elapsed:\t88.46901679039001 seconds\n",
      "Saved TransformerNetwork checkpoint file at images/model.pth.pth\n",
      "content_loss0.0757402777671814,style_loss8.545255695935339e-05,epochs184\n",
      "Time elapsed:\t94.27857756614685 seconds\n",
      "Saved TransformerNetwork checkpoint file at images/model.pth.pth\n",
      "content_loss0.07277248799800873,style_loss8.389600407099351e-05,epochs183\n",
      "Time elapsed:\t100.1194474697113 seconds\n",
      "Saved TransformerNetwork checkpoint file at images/model.pth.pth\n",
      "content_loss0.07039637118577957,style_loss8.493241330143064e-05,epochs182\n",
      "Time elapsed:\t105.96373510360718 seconds\n",
      "Saved TransformerNetwork checkpoint file at images/model.pth.pth\n",
      "content_loss0.06785636395215988,style_loss8.238214650191367e-05,epochs181\n",
      "Time elapsed:\t111.77819395065308 seconds\n",
      "Saved TransformerNetwork checkpoint file at images/model.pth.pth\n",
      "content_loss0.06583055853843689,style_loss8.025131683098152e-05,epochs180\n",
      "Time elapsed:\t117.60052561759949 seconds\n",
      "Saved TransformerNetwork checkpoint file at images/model.pth.pth\n",
      "content_loss0.06372987478971481,style_loss8.174290996976197e-05,epochs179\n",
      "Time elapsed:\t123.41707730293274 seconds\n",
      "Saved TransformerNetwork checkpoint file at images/model.pth.pth\n",
      "content_loss0.06194604933261871,style_loss7.998994260560721e-05,epochs178\n",
      "Time elapsed:\t129.2414436340332 seconds\n",
      "Saved TransformerNetwork checkpoint file at images/model.pth.pth\n",
      "content_loss0.05912494659423828,style_loss7.933205051813275e-05,epochs177\n",
      "Time elapsed:\t135.0893955230713 seconds\n",
      "Saved TransformerNetwork checkpoint file at images/model.pth.pth\n",
      "content_loss0.058472469449043274,style_loss8.114782394841313e-05,epochs176\n",
      "Time elapsed:\t140.9124984741211 seconds\n",
      "Saved TransformerNetwork checkpoint file at images/model.pth.pth\n",
      "content_loss0.056541815400123596,style_loss7.92032151366584e-05,epochs175\n",
      "Time elapsed:\t146.74769139289856 seconds\n",
      "Saved TransformerNetwork checkpoint file at images/model.pth.pth\n",
      "content_loss0.05479435250163078,style_loss7.826909859431908e-05,epochs174\n",
      "Time elapsed:\t152.57404708862305 seconds\n",
      "Saved TransformerNetwork checkpoint file at images/model.pth.pth\n",
      "content_loss0.053524017333984375,style_loss7.8454046160914e-05,epochs173\n",
      "Time elapsed:\t158.38710951805115 seconds\n",
      "Saved TransformerNetwork checkpoint file at images/model.pth.pth\n",
      "content_loss0.052032601088285446,style_loss7.626338629052043e-05,epochs172\n",
      "Time elapsed:\t164.19904232025146 seconds\n",
      "Saved TransformerNetwork checkpoint file at images/model.pth.pth\n",
      "content_loss0.05067126080393791,style_loss7.660518167540431e-05,epochs171\n",
      "Time elapsed:\t170.03327345848083 seconds\n",
      "Saved TransformerNetwork checkpoint file at images/model.pth.pth\n",
      "content_loss0.049555279314517975,style_loss7.802500476827845e-05,epochs170\n",
      "Time elapsed:\t175.8794732093811 seconds\n",
      "Saved TransformerNetwork checkpoint file at images/model.pth.pth\n",
      "content_loss0.0493064820766449,style_loss7.501262007281184e-05,epochs169\n",
      "Time elapsed:\t181.70552134513855 seconds\n",
      "Saved TransformerNetwork checkpoint file at images/model.pth.pth\n",
      "content_loss0.04915241152048111,style_loss7.855775766074657e-05,epochs168\n",
      "Time elapsed:\t187.52403044700623 seconds\n",
      "Saved TransformerNetwork checkpoint file at images/model.pth.pth\n",
      "content_loss0.04866677522659302,style_loss7.647000893484801e-05,epochs167\n",
      "Time elapsed:\t193.34209370613098 seconds\n",
      "Saved TransformerNetwork checkpoint file at images/model.pth.pth\n",
      "content_loss0.0458507314324379,style_loss7.428049866575748e-05,epochs166\n",
      "Time elapsed:\t199.2027552127838 seconds\n",
      "Saved TransformerNetwork checkpoint file at images/model.pth.pth\n",
      "content_loss0.045507919043302536,style_loss7.354920671787113e-05,epochs165\n",
      "Time elapsed:\t205.0111608505249 seconds\n",
      "Saved TransformerNetwork checkpoint file at images/model.pth.pth\n",
      "content_loss0.045125484466552734,style_loss7.718949200352654e-05,epochs164\n",
      "Time elapsed:\t210.80636882781982 seconds\n",
      "Saved TransformerNetwork checkpoint file at images/model.pth.pth\n",
      "content_loss0.04514698311686516,style_loss7.440175977535546e-05,epochs163\n",
      "Time elapsed:\t216.6429305076599 seconds\n",
      "Saved TransformerNetwork checkpoint file at images/model.pth.pth\n",
      "content_loss0.044324666261672974,style_loss7.713783998042345e-05,epochs162\n",
      "Time elapsed:\t222.48935174942017 seconds\n",
      "Saved TransformerNetwork checkpoint file at images/model.pth.pth\n",
      "content_loss0.042546793818473816,style_loss7.30414321878925e-05,epochs161\n",
      "Time elapsed:\t228.30704021453857 seconds\n",
      "Saved TransformerNetwork checkpoint file at images/model.pth.pth\n",
      "content_loss0.04150128737092018,style_loss7.354555418714881e-05,epochs160\n",
      "Time elapsed:\t234.1165668964386 seconds\n",
      "Saved TransformerNetwork checkpoint file at images/model.pth.pth\n",
      "content_loss0.04068047180771828,style_loss7.514214667025954e-05,epochs159\n",
      "Time elapsed:\t239.95033645629883 seconds\n",
      "Saved TransformerNetwork checkpoint file at images/model.pth.pth\n",
      "content_loss0.039599768817424774,style_loss7.19103918527253e-05,epochs158\n",
      "Time elapsed:\t245.75547289848328 seconds\n",
      "Saved TransformerNetwork checkpoint file at images/model.pth.pth\n",
      "content_loss0.03850805014371872,style_loss7.335564441746101e-05,epochs157\n",
      "Time elapsed:\t251.59041595458984 seconds\n",
      "Saved TransformerNetwork checkpoint file at images/model.pth.pth\n",
      "content_loss0.03775651007890701,style_loss7.182732952060178e-05,epochs156\n",
      "Time elapsed:\t257.4231827259064 seconds\n",
      "Saved TransformerNetwork checkpoint file at images/model.pth.pth\n",
      "content_loss0.036984436213970184,style_loss7.42221818654798e-05,epochs155\n",
      "Time elapsed:\t263.2456605434418 seconds\n",
      "Saved TransformerNetwork checkpoint file at images/model.pth.pth\n",
      "content_loss0.036755844950675964,style_loss7.080239447532222e-05,epochs154\n",
      "Time elapsed:\t269.07412481307983 seconds\n",
      "Saved TransformerNetwork checkpoint file at images/model.pth.pth\n"
     ]
    },
    {
     "name": "stderr",
     "output_type": "stream",
     "text": [
      "ERROR:root:Internal Python error in the inspect module.\n",
      "Below is the traceback from this internal error.\n",
      "\n"
     ]
    },
    {
     "name": "stdout",
     "output_type": "stream",
     "text": [
      "Traceback (most recent call last):\n",
      "  File \"/usr/local/lib/python3.6/dist-packages/IPython/core/interactiveshell.py\", line 2882, in run_code\n",
      "    exec(code_obj, self.user_global_ns, self.user_ns)\n",
      "  File \"<ipython-input-22-6b2871b59f33>\", line 58, in <module>\n",
      "    print(\"content_loss{},style_loss{},epochs{}\".format((agg_content/(i+1)),(agg_style/(i+1)),epochs))\n",
      "  File \"/usr/local/lib/python3.6/dist-packages/torch/tensor.py\", line 340, in __format__\n",
      "    return self.item().__format__(format_spec)\n",
      "KeyboardInterrupt\n",
      "\n",
      "During handling of the above exception, another exception occurred:\n",
      "\n",
      "Traceback (most recent call last):\n",
      "  File \"/usr/local/lib/python3.6/dist-packages/IPython/core/interactiveshell.py\", line 1823, in showtraceback\n",
      "    stb = value._render_traceback_()\n",
      "AttributeError: 'KeyboardInterrupt' object has no attribute '_render_traceback_'\n",
      "\n",
      "During handling of the above exception, another exception occurred:\n",
      "\n",
      "Traceback (most recent call last):\n",
      "  File \"/usr/local/lib/python3.6/dist-packages/IPython/core/ultratb.py\", line 1132, in get_records\n",
      "    return _fixed_getinnerframes(etb, number_of_lines_of_context, tb_offset)\n",
      "  File \"/usr/local/lib/python3.6/dist-packages/IPython/core/ultratb.py\", line 313, in wrapped\n",
      "    return f(*args, **kwargs)\n",
      "  File \"/usr/local/lib/python3.6/dist-packages/IPython/core/ultratb.py\", line 358, in _fixed_getinnerframes\n",
      "    records = fix_frame_records_filenames(inspect.getinnerframes(etb, context))\n",
      "  File \"/usr/lib/python3.6/inspect.py\", line 1490, in getinnerframes\n",
      "    frameinfo = (tb.tb_frame,) + getframeinfo(tb, context)\n",
      "  File \"/usr/lib/python3.6/inspect.py\", line 1448, in getframeinfo\n",
      "    filename = getsourcefile(frame) or getfile(frame)\n",
      "  File \"/usr/lib/python3.6/inspect.py\", line 696, in getsourcefile\n",
      "    if getattr(getmodule(object, filename), '__loader__', None) is not None:\n",
      "  File \"/usr/lib/python3.6/inspect.py\", line 725, in getmodule\n",
      "    file = getabsfile(object, _filename)\n",
      "  File \"/usr/lib/python3.6/inspect.py\", line 709, in getabsfile\n",
      "    return os.path.normcase(os.path.abspath(_filename))\n",
      "  File \"/usr/lib/python3.6/posixpath.py\", line 383, in abspath\n",
      "    cwd = os.getcwd()\n",
      "OSError: [Errno 107] Transport endpoint is not connected\n"
     ]
    },
    {
     "ename": "KeyboardInterrupt",
     "evalue": "ignored",
     "output_type": "error",
     "traceback": [
      "\u001b[0;31m---------------------------------------------------------------------------\u001b[0m"
     ]
    }
   ],
   "source": [
    "import time\n",
    "start_time = time.time()\n",
    "SAVE_MODEL_PATH= \"images/model\"+ \".pth\"\n",
    "path=\"modern.jpg\"\n",
    "style_img=Image.open(path)\n",
    "style_img=transform(style_img)\n",
    "style_img=normalize_batch(style_img).to(device)\n",
    "style_img = style_img.repeat(4, 1, 1, 1)\n",
    "features_style=VGG(style_img)\n",
    "\n",
    "gram_style = [gram_matrix(y) for y in features_style]\n",
    "\n",
    "content_weight=50\n",
    "style_weight=25\n",
    "epochs=200\n",
    "while(epochs):\n",
    "  epochs-=1\n",
    "  agg_content=0\n",
    "  agg_style=0\n",
    "  for i,(imag,_) in enumerate(dataloader):\n",
    "    n_batch = len(imag)\n",
    "    optimizer.zero_grad()\n",
    "    x=imag.to(device)\n",
    "    \n",
    "    \n",
    "    \n",
    "    \n",
    "    \n",
    "    y=trans(x)\n",
    "    \n",
    "    y = normalize_batch(y)\n",
    "    x = normalize_batch(x)\n",
    "    \n",
    "    y_hat=VGG(y)\n",
    "    x_hat=VGG(x)\n",
    "    \n",
    "    \n",
    "    content_loss=content_weight*mse_loss(x_hat.relu2_2,y_hat.relu2_2)\n",
    "    \n",
    "    \n",
    "    style_loss=0\n",
    "    for ps,gs in zip(y_hat,gram_style):\n",
    "      p_s=gram_matrix(ps)\n",
    "      style_loss+=style_weight*mse_loss(p_s,gs[:n_batch, :, :])\n",
    "      \n",
    "    total_loss=content_loss+style_loss\n",
    "    total_loss.backward()\n",
    "    \n",
    "    optimizer.step()\n",
    "    \n",
    "    agg_content+=content_loss\n",
    "    agg_style+=style_loss\n",
    "    \n",
    "    \n",
    "    \n",
    "    \n",
    "  # Print Losses\n",
    "  print(\"content_loss{},style_loss{},epochs{}\".format((agg_content/(i+1)),(agg_style/(i+1)),epochs))\n",
    "  print(\"Time elapsed:\\t{} seconds\".format(time.time()-start_time))\n",
    "\n",
    "  # Save Model\n",
    "  checkpoint_path = SAVE_MODEL_PATH + \".pth\"\n",
    "  torch.save(trans.state_dict(), checkpoint_path)\n",
    "  print(\"Saved TransformerNetwork checkpoint file at {}\".format(checkpoint_path)) \n",
    "  \n",
    "  \n",
    "      \n",
    "    \n",
    "    \n",
    "    \n",
    "      \n",
    "      \n",
    "    \n",
    "    \n",
    "    \n",
    "  \n"
   ]
  },
  {
   "cell_type": "code",
   "execution_count": 23,
   "metadata": {
    "colab": {
     "base_uri": "https://localhost:8080/",
     "height": 775
    },
    "colab_type": "code",
    "executionInfo": {
     "elapsed": 1107,
     "status": "error",
     "timestamp": 1571226203023,
     "user": {
      "displayName": "aryanshu verma",
      "photoUrl": "",
      "userId": "06257256110111328014"
     },
     "user_tz": -330
    },
    "id": "rGG_2wyiKNOA",
    "outputId": "e1de8b24-4d29-4357-9c19-841cb07bca8c"
   },
   "outputs": [
    {
     "name": "stderr",
     "output_type": "stream",
     "text": [
      "ERROR:root:Internal Python error in the inspect module.\n",
      "Below is the traceback from this internal error.\n",
      "\n"
     ]
    },
    {
     "name": "stdout",
     "output_type": "stream",
     "text": [
      "Traceback (most recent call last):\n",
      "  File \"/usr/local/lib/python3.6/dist-packages/IPython/core/interactiveshell.py\", line 2882, in run_code\n",
      "    exec(code_obj, self.user_global_ns, self.user_ns)\n",
      "  File \"<ipython-input-23-6f1603526e2e>\", line 3, in <module>\n",
      "    img=Image.open(img)\n",
      "  File \"/usr/local/lib/python3.6/dist-packages/PIL/Image.py\", line 2530, in open\n",
      "    fp = builtins.open(filename, \"rb\")\n",
      "OSError: [Errno 107] Transport endpoint is not connected: 'images/2.jpg'\n",
      "\n",
      "During handling of the above exception, another exception occurred:\n",
      "\n",
      "Traceback (most recent call last):\n",
      "  File \"/usr/local/lib/python3.6/dist-packages/IPython/core/interactiveshell.py\", line 1823, in showtraceback\n",
      "    stb = value._render_traceback_()\n",
      "AttributeError: 'OSError' object has no attribute '_render_traceback_'\n",
      "\n",
      "During handling of the above exception, another exception occurred:\n",
      "\n",
      "Traceback (most recent call last):\n",
      "  File \"/usr/local/lib/python3.6/dist-packages/IPython/core/ultratb.py\", line 1132, in get_records\n",
      "    return _fixed_getinnerframes(etb, number_of_lines_of_context, tb_offset)\n",
      "  File \"/usr/local/lib/python3.6/dist-packages/IPython/core/ultratb.py\", line 313, in wrapped\n",
      "    return f(*args, **kwargs)\n",
      "  File \"/usr/local/lib/python3.6/dist-packages/IPython/core/ultratb.py\", line 358, in _fixed_getinnerframes\n",
      "    records = fix_frame_records_filenames(inspect.getinnerframes(etb, context))\n",
      "  File \"/usr/lib/python3.6/inspect.py\", line 1490, in getinnerframes\n",
      "    frameinfo = (tb.tb_frame,) + getframeinfo(tb, context)\n",
      "  File \"/usr/lib/python3.6/inspect.py\", line 1448, in getframeinfo\n",
      "    filename = getsourcefile(frame) or getfile(frame)\n",
      "  File \"/usr/lib/python3.6/inspect.py\", line 696, in getsourcefile\n",
      "    if getattr(getmodule(object, filename), '__loader__', None) is not None:\n",
      "  File \"/usr/lib/python3.6/inspect.py\", line 725, in getmodule\n",
      "    file = getabsfile(object, _filename)\n",
      "  File \"/usr/lib/python3.6/inspect.py\", line 709, in getabsfile\n",
      "    return os.path.normcase(os.path.abspath(_filename))\n",
      "  File \"/usr/lib/python3.6/posixpath.py\", line 383, in abspath\n",
      "    cwd = os.getcwd()\n",
      "OSError: [Errno 107] Transport endpoint is not connected\n"
     ]
    },
    {
     "ename": "OSError",
     "evalue": "ignored",
     "output_type": "error",
     "traceback": [
      "\u001b[0;31m---------------------------------------------------------------------------\u001b[0m"
     ]
    }
   ],
   "source": [
    "for x in range(2,8):\n",
    "  img=\"pics/\"+str(x)+\".jpg\"\n",
    "  img=Image.open(img)\n",
    "  img=pilt(img)\n",
    "  img=img.unsqueeze(0).to(device)\n",
    "  img=trans(img)\n",
    "  ishow(img.cpu())"
   ]
  },
  {
   "cell_type": "code",
   "execution_count": 0,
   "metadata": {
    "colab": {},
    "colab_type": "code",
    "id": "YWnmwinQ3qJM"
   },
   "outputs": [],
   "source": []
  },
  {
   "cell_type": "code",
   "execution_count": 0,
   "metadata": {
    "colab": {},
    "colab_type": "code",
    "id": "woaL-TmpezYa"
   },
   "outputs": [],
   "source": [
    "    trans.eval()\n",
    "    trans.cpu()\n",
    "    final_path = SAVE_MODEL_PATH + \"transformer_weight.pth\"\n",
    "    print(\"Saving TransformerNetwork weights at {}\".format(final_path))\n",
    "    torch.save(trans.state_dict(), final_path)\n",
    "    print(\"Done saving final model\")"
   ]
  }
 ],
 "metadata": {
  "accelerator": "GPU",
  "colab": {
   "collapsed_sections": [],
   "name": "Copy of train.ipynb",
   "provenance": [
    {
     "file_id": "1rpfLXy8iudLhnvM4LNguvYas-XdYAywv",
     "timestamp": 1569776097196
    }
   ]
  },
  "kernelspec": {
   "display_name": "Python 3",
   "language": "python",
   "name": "python3"
  },
  "language_info": {
   "codemirror_mode": {
    "name": "ipython",
    "version": 3
   },
   "file_extension": ".py",
   "mimetype": "text/x-python",
   "name": "python",
   "nbconvert_exporter": "python",
   "pygments_lexer": "ipython3",
   "version": "3.7.2"
  }
 },
 "nbformat": 4,
 "nbformat_minor": 1
}
